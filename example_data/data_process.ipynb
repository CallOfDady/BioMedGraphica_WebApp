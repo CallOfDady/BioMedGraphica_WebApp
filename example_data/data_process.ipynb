{
 "cells": [
  {
   "cell_type": "markdown",
   "id": "5999003f",
   "metadata": {},
   "source": [
    "> **Data Source Acknowledgment**\n",
    ">\n",
    "> This dataset is derived from **The Vascular Contributors to Prodromal Alzheimer’s Disease (Emory_Vascular) study**.  \n",
    "> Project homepage: [https://adknowledgeportal.synapse.org/Explore/Studies/DetailsPage/StudyDetails?Study=syn18909507](https://adknowledgeportal.synapse.org/Explore/Studies/DetailsPage/StudyDetails?Study=syn18909507)\n",
    ">\n",
    "> The specific data files and their Synapse links are listed below:  \n",
    ">\n",
    "> 1. *Emory_Vascular-Clinical.Cognitive.Cardiovascular.csv*  \n",
    ">    Source: [https://www.synapse.org/Synapse:syn21317575](https://www.synapse.org/Synapse:syn21317575)\n",
    ">\n",
    "> 2. *599_Ihab_DESeq2_NormCounts_synapse.xlsx*  \n",
    ">    Source: [https://www.synapse.org/Synapse:syn22219479](https://www.synapse.org/Synapse:syn22219479)\n",
    ">\n",
    "> 3. *Emory_Vascular_individual_human_metadata.csv*  \n",
    ">    Source: [https://www.synapse.org/Synapse:syn21317577](https://www.synapse.org/Synapse:syn21317577)\n",
    ">\n",
    "\n"
   ]
  },
  {
   "cell_type": "markdown",
   "id": "fb40d8d4",
   "metadata": {},
   "source": [
    "# Process Clinical Data"
   ]
  },
  {
   "cell_type": "markdown",
   "id": "d292c542",
   "metadata": {},
   "source": [
    "## Load Clinical Data"
   ]
  },
  {
   "cell_type": "code",
   "execution_count": null,
   "id": "c180357a",
   "metadata": {},
   "outputs": [],
   "source": [
    "import pandas as pd\n",
    "import numpy as np\n",
    "import os\n",
    "\n",
    "clinical_data_path = \"raw_data/Emory_Vascular-Clinical.Cognitive.Cardiovascular.csv\"\n",
    "\n",
    "clinical_data = pd.read_csv(clinical_data_path, na_values=[\".\"])\n",
    "\n",
    "process_data_path = \"processed_data\"\n",
    "if not os.path.exists(process_data_path):\n",
    "    os.makedirs(process_data_path)\n",
    "\n",
    "display(clinical_data)"
   ]
  },
  {
   "cell_type": "markdown",
   "id": "43b7697b",
   "metadata": {},
   "source": [
    "## Phenotype"
   ]
  },
  {
   "cell_type": "code",
   "execution_count": null,
   "id": "cf817def",
   "metadata": {},
   "outputs": [],
   "source": [
    "columns_to_extract = {\n",
    "    \"individualID\": \"individual_id\",\n",
    "    \"hxmi\": \"myocardial_infarction\",\n",
    "    \"afib\": \"atrial_fibrillation\",\n",
    "    \"angina\": \"angina\",\n",
    "    \"hxchf\": \"congestive_heart_failure\",\n",
    "    \"hxbp\": \"hypertension\",\n",
    "    \"hxhighchol\": \"hypercholesterolemia\"\n",
    "}\n",
    "\n",
    "phenotype_df = clinical_data[list(columns_to_extract.keys())].rename(columns=columns_to_extract)\n",
    "\n",
    "id_col = \"individual_id\"\n",
    "for col in phenotype_df.columns:\n",
    "    if col != id_col:\n",
    "        phenotype_df[col] = phenotype_df[col].fillna(-1).astype(int)\n",
    "\n",
    "phenotype_df.to_csv(os.path.join(process_data_path, \"phenotype.csv\"), index=False)\n",
    "print(\"Phenotype data saved\")\n"
   ]
  },
  {
   "cell_type": "markdown",
   "id": "7881b1ed",
   "metadata": {},
   "source": [
    "## Exposure"
   ]
  },
  {
   "cell_type": "code",
   "execution_count": null,
   "id": "ac7f34fd",
   "metadata": {},
   "outputs": [],
   "source": [
    "columns_to_extract = {\n",
    "    \"individualID\": \"individual_id\",\n",
    "    \"smoker\": \"tobacco_exposure\",\n",
    "    \"drinker\": \"ethanol_exposure\"\n",
    "}\n",
    "\n",
    "exposure_df = clinical_data[list(columns_to_extract.keys())].rename(columns=columns_to_extract)\n",
    "\n",
    "id_col = \"individual_id\"\n",
    "for col in exposure_df.columns:\n",
    "    if col != id_col:\n",
    "        exposure_df[col] = exposure_df[col].fillna(-1).astype(int)\n",
    "\n",
    "exposure_df.to_csv(os.path.join(process_data_path, \"exposure.csv\"), index=False)\n",
    "\n",
    "print(\"Exposure data saved\")"
   ]
  },
  {
   "cell_type": "markdown",
   "id": "f69c3c1c",
   "metadata": {},
   "source": [
    "# Process Gene Expression Data (Transcript)"
   ]
  },
  {
   "cell_type": "code",
   "execution_count": null,
   "id": "a75cb6e6",
   "metadata": {},
   "outputs": [],
   "source": [
    "import pandas as pd\n",
    "import os\n",
    "\n",
    "transcript_data_path = r\"raw_data/599_Ihab_DESeq2_NormCounts_synapse.xlsx\"\n",
    "process_data_path = \"processed_data\"\n",
    "\n",
    "if not os.path.exists(process_data_path):\n",
    "    os.makedirs(process_data_path)\n",
    "\n",
    "transcript_data_df = pd.read_excel(transcript_data_path)\n",
    "\n",
    "display(transcript_data_df)\n",
    "\n",
    "transcript_data_df = transcript_data_df.fillna(0)\n",
    "\n",
    "transcript_data_df = transcript_data_df.drop(columns=[\"gene_name\", \"description\"], errors=\"ignore\")\n",
    "\n",
    "# Transpose the DataFrame\n",
    "transcript_data_df = transcript_data_df.set_index(transcript_data_df.columns[0])\n",
    "transcript_data_df_t = transcript_data_df.T.reset_index()\n",
    "transcript_data_df_t.rename(columns={\"index\": \"sample_id\"}, inplace=True)\n",
    "\n",
    "# Clean up sample IDs\n",
    "transcript_data_df_t[\"sample_id\"] = transcript_data_df_t[\"sample_id\"].apply(lambda x: str(x).split(\"_\")[-1])\n",
    "\n",
    "# Save the processed data\n",
    "transcript_data_df_t.to_csv(os.path.join(process_data_path, \"transcript.csv\"), index=False)\n",
    "\n",
    "print(f\"Gene expression data saved\")\n"
   ]
  },
  {
   "cell_type": "markdown",
   "id": "acc4f2de",
   "metadata": {},
   "source": [
    "# Process Label"
   ]
  },
  {
   "cell_type": "code",
   "execution_count": null,
   "id": "b7392962",
   "metadata": {},
   "outputs": [],
   "source": [
    "import pandas as pd\n",
    "import os\n",
    "\n",
    "label_data_path = \"raw_data/Emory_Vascular_individual_human_metadata.csv\"\n",
    "\n",
    "label_data_df = pd.read_csv(label_data_path)\n",
    "\n",
    "display(label_data_df)"
   ]
  },
  {
   "cell_type": "code",
   "execution_count": null,
   "id": "82b48da5",
   "metadata": {},
   "outputs": [],
   "source": [
    "label_data_df = label_data_df[[\"individualID\", \"diagnosis\"]].copy()\n",
    "diagnosis_counts = label_data_df[\"diagnosis\"].value_counts()\n",
    "\n",
    "print(\"Diagnosis counts:\")\n",
    "print(diagnosis_counts)"
   ]
  },
  {
   "cell_type": "code",
   "execution_count": null,
   "id": "ac64ddd8",
   "metadata": {},
   "outputs": [],
   "source": [
    "# Encode the diagnosis labels, mapping \"normal\" to 0 and \"mci (Mild Cognitive Impairment)\" to 1, and others to -1\n",
    "encode_map = {\"normal\": 0, \"mci\": 1}\n",
    "label_data_df[\"diagnosis_code\"] = label_data_df[\"diagnosis\"].map(encode_map).fillna(-1).astype(int)\n",
    "\n",
    "encoded_label_data_df = label_data_df[[\"individualID\", \"diagnosis_code\"]]\n",
    "encoded_label_data_df.to_csv(os.path.join(process_data_path, \"label.csv\"), index=False)\n",
    "\n",
    "print(\"Label data saved\")\n"
   ]
  }
 ],
 "metadata": {
  "kernelspec": {
   "display_name": "win_env",
   "language": "python",
   "name": "python3"
  },
  "language_info": {
   "codemirror_mode": {
    "name": "ipython",
    "version": 3
   },
   "file_extension": ".py",
   "mimetype": "text/x-python",
   "name": "python",
   "nbconvert_exporter": "python",
   "pygments_lexer": "ipython3",
   "version": "3.11.7"
  }
 },
 "nbformat": 4,
 "nbformat_minor": 5
}
