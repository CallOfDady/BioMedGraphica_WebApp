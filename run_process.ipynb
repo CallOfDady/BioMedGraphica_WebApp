{
 "cells": [
  {
   "cell_type": "code",
   "execution_count": null,
   "metadata": {},
   "outputs": [],
   "source": [
    "config = {\n",
    "  \"configs\": [\n",
    "    {\n",
    "      \"feature_label\": \"protein\",\n",
    "      \"entity_type\": \"protein\",\n",
    "      \"id_type\": \"\",\n",
    "      \"file_path\": \"\",\n",
    "      \"fill0\": True\n",
    "    },\n",
    "    {\n",
    "      \"feature_label\": \"gene\",\n",
    "      \"entity_type\": \"gene\",\n",
    "      \"id_type\": \"\",\n",
    "      \"file_path\": \"\",\n",
    "      \"fill0\": True\n",
    "    },\n",
    "    {\n",
    "      \"feature_label\": \"transcript\",\n",
    "      \"entity_type\": \"transcript\",\n",
    "      \"id_type\": \"Ensembl_Gene_ID\",\n",
    "      \"file_path\": \"E:/LabWork/MedGraphica_GUI/input_data/LLFS_processed_data/transcript_no_verison.csv\",\n",
    "      \"fill0\": False,\n",
    "      \"match_mode\": \"hard\"\n",
    "    },\n",
    "    {\n",
    "      \"feature_label\": \"promoter\",\n",
    "      \"entity_type\": \"promoter\",\n",
    "      \"id_type\": \"HGNC_Symbol\",\n",
    "      \"file_path\": \"E:/LabWork/MedGraphica_GUI/input_data/LLFS_processed_data/promoter.csv\",\n",
    "      \"fill0\": False,\n",
    "      \"match_mode\": \"hard\"\n",
    "    },\n",
    "    {\n",
    "      \"feature_label\": \"label\",\n",
    "      \"entity_type\": \"label\",\n",
    "      \"id_type\": \"\",\n",
    "      \"file_path\": \"E:/LabWork/MedGraphica_GUI/input_data/LLFS_processed_data/t2ds.csv\",\n",
    "      \"fill0\": False\n",
    "    }\n",
    "  ],\n",
    "  \"finalize\": {\n",
    "    \"file_order\": [\"promoter\", \"gene\", \"transcript\", \"protein\"],\n",
    "    \"apply_zscore\": True,\n",
    "    \"edge_types\": [\"Gene-Transcript\", \"Promoter-Gene\", \"Protein-Protein\", \"Transcript-Protein\"]\n",
    "  }\n",
    "}\n"
   ]
  },
  {
   "cell_type": "code",
   "execution_count": null,
   "metadata": {},
   "outputs": [
    {
     "name": "stderr",
     "output_type": "stream",
     "text": [
      "Processing:   0%|          | 0/4 [00:00<?, ?entity/s]e:\\LabWork\\BioMedGraphica_Server\\backend\\processors.py:18: DtypeWarning: Columns (2,7) have mixed types. Specify dtype option on import or set low_memory=False.\n",
      "  return pd.read_csv(path)\n"
     ]
    },
    {
     "name": "stdout",
     "output_type": "stream",
     "text": [
      "Filling zeros for protein with 266samples and 121419 BioMedGraphica IDs...\n"
     ]
    },
    {
     "name": "stderr",
     "output_type": "stream",
     "text": [
      "Processing:  25%|██▌       | 1/4 [00:00<00:01,  2.12entity/s]e:\\LabWork\\BioMedGraphica_Server\\backend\\processors.py:18: DtypeWarning: Columns (4,5,6,11,12) have mixed types. Specify dtype option on import or set low_memory=False.\n",
      "  return pd.read_csv(path)\n",
      "Processing:  50%|█████     | 2/4 [00:00<00:00,  2.42entity/s]"
     ]
    },
    {
     "name": "stdout",
     "output_type": "stream",
     "text": [
      "Filling zeros for gene with 266samples and 86238 BioMedGraphica IDs...\n"
     ]
    },
    {
     "name": "stderr",
     "output_type": "stream",
     "text": [
      "e:\\LabWork\\BioMedGraphica_Server\\backend\\processors.py:18: DtypeWarning: Columns (14) have mixed types. Specify dtype option on import or set low_memory=False.\n",
      "  return pd.read_csv(path)\n"
     ]
    },
    {
     "name": "stdout",
     "output_type": "stream",
     "text": [
      "[DEBUG] mapping_df rows: 169488\n",
      "[DEBUG] merged shape: (45083808, 4)\n"
     ]
    },
    {
     "name": "stderr",
     "output_type": "stream",
     "text": [
      "Processing:  75%|███████▌  | 3/4 [00:22<00:10, 10.21s/entity]e:\\LabWork\\BioMedGraphica_Server\\backend\\processors.py:18: DtypeWarning: Columns (4,5,6,11,12) have mixed types. Specify dtype option on import or set low_memory=False.\n",
      "  return pd.read_csv(path)\n"
     ]
    },
    {
     "name": "stdout",
     "output_type": "stream",
     "text": [
      "[DEBUG] mapping_df rows: 46631\n",
      "[DEBUG] merged shape: (38097527, 4)\n"
     ]
    },
    {
     "name": "stderr",
     "output_type": "stream",
     "text": [
      "Processing: 100%|██████████| 4/4 [00:51<00:00, 12.81s/entity]\n"
     ]
    },
    {
     "name": "stdout",
     "output_type": "stream",
     "text": [
      "File order: ['promoter', 'gene', 'transcript', 'protein']\n",
      "Applying z-score normalization to cache\\_x\\promoter.npy\n",
      "Applying z-score normalization to cache\\_x\\gene.npy\n",
      "Applying z-score normalization to cache\\_x\\transcript.npy\n",
      "Applying z-score normalization to cache\\_x\\protein.npy\n",
      "Merged feature matrix saved to: cache\\processed_data/xAll.npy\n",
      "Loaded label data from cache\\_y\\label.npy\n",
      "Label matrix saved to: cache\\processed_data/yAll.npy\n",
      "Entity ID mapping saved to: cache\\processed_data/entity_index_id_mapping.csv\n"
     ]
    },
    {
     "name": "stderr",
     "output_type": "stream",
     "text": [
      "e:\\LabWork\\BioMedGraphica_Server\\backend\\finalize.py:77: DtypeWarning: Columns (6) have mixed types. Specify dtype option on import or set low_memory=False.\n",
      "  edge_data_raw = pd.read_csv(edge_csv_path)\n"
     ]
    },
    {
     "name": "stdout",
     "output_type": "stream",
     "text": [
      "Saved: ppi_edge_index.npy\n",
      "Saved: internal_edge_index.npy\n",
      "Processing done with 5 success / 5 total\n",
      "- label: success\n",
      "- protein: success\n",
      "- gene: success\n",
      "- transcript: success\n",
      "- promoter: success\n",
      "Finalized dataset output: cache\\processed_data/\n"
     ]
    }
   ],
   "source": [
    "from backend.processors import process\n",
    "\n",
    "database_path = \"E:/LabWork/BioMedGraphica-Conn\"\n",
    "output_dir = \"cache\"\n",
    "\n",
    "result = process(\n",
    "    *config[\"configs\"],\n",
    "    database_path=database_path,\n",
    "    output_dir=output_dir,\n",
    "    file_order=config[\"finalize\"].get(\"file_order\"),\n",
    "    apply_zscore=config[\"finalize\"].get(\"apply_zscore\", False),\n",
    "    edge_types=config[\"finalize\"].get(\"edge_types\"),\n",
    ")\n",
    "\n",
    "print(f\"Processing done with {result['summary']['success']} success / {result['summary']['total']} total\")\n",
    "\n",
    "for r in result[\"results\"]:\n",
    "    print(f\"- {r['feature_label']}: {r['status']}\")\n",
    "    if r[\"status\"] == \"error\":\n",
    "        print(f\"  ↳ Error: {r['error']}\")\n",
    "\n",
    "if \"finalized_dataset\" in result:\n",
    "    print(\"Finalized dataset output:\", result[\"finalized_dataset\"].get(\"processed_data_path\"))\n"
   ]
  },
  {
   "cell_type": "code",
   "execution_count": 11,
   "metadata": {},
   "outputs": [
    {
     "name": "stdout",
     "output_type": "stream",
     "text": [
      "x shape: (266, 705934)\n",
      "[[ 1.516207    0.3551345   0.15494067 ...  0.          0.\n",
      "   0.        ]\n",
      " [-0.65030747 -2.21696119 -0.75535738 ...  0.          0.\n",
      "   0.        ]\n",
      " [-1.00851816  0.97146059  0.75635074 ...  0.          0.\n",
      "   0.        ]\n",
      " ...\n",
      " [-0.41269124  0.19189342  0.52893605 ...  0.          0.\n",
      "   0.        ]\n",
      " [ 0.27002505  0.26812189  1.07663526 ...  0.          0.\n",
      "   0.        ]\n",
      " [ 0.44647774  0.3794544   0.58658835 ...  0.          0.\n",
      "   0.        ]]\n"
     ]
    }
   ],
   "source": [
    "x_file_path = rf\"cache\\processed_data\\xAll.npy\"\n",
    "import numpy as np\n",
    "x = np.load(x_file_path, allow_pickle=True)\n",
    "print(f\"x shape: {x.shape}\")\n",
    "print(x)"
   ]
  }
 ],
 "metadata": {
  "kernelspec": {
   "display_name": "win_env",
   "language": "python",
   "name": "python3"
  },
  "language_info": {
   "codemirror_mode": {
    "name": "ipython",
    "version": 3
   },
   "file_extension": ".py",
   "mimetype": "text/x-python",
   "name": "python",
   "nbconvert_exporter": "python",
   "pygments_lexer": "ipython3",
   "version": "3.11.7"
  }
 },
 "nbformat": 4,
 "nbformat_minor": 2
}
